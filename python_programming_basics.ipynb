{
  "cells": [
    {
      "cell_type": "markdown",
      "metadata": {
        "id": "LIikg8cpf2ab"
      },
      "source": [
        "# 1 Intro\n",
        "\n",
        "This notebook helps you learn/review some Python programming basics. We cover\n",
        "\n",
        "1. Simple built-in data structures\n",
        "2. Programming structures (sequential, conditional, iterative)\n",
        "3. Functions\n",
        "\n",
        "Refer to the \"Resources\" section in the workshop website, and you will find more learning materials to advance your Python programming skill."
      ]
    },
    {
      "cell_type": "markdown",
      "metadata": {
        "id": "4POoACzaXUie"
      },
      "source": [
        "# 2 Basic Data Structures\n",
        "\n",
        "A data structure is a way of storing and organizing data/values of certain types.\n",
        "\n",
        "* **Values**: Values can be numbers, texts, special characters and more.\n",
        "\n",
        "* **Types**: Values belong to different types. Some examples of simple values and their types are,\n",
        "\n",
        "  * Numbers are usually of type integer or float.\n",
        "  * Texts are of type string.\n",
        "  * `True` and `False` are of boolean type.\n",
        "\n",
        "* **Variables**: Variable is a name that refers to a value.\n",
        "\n",
        "You can assign a value to a variable using the assignment operator `=`. Python infers the type of the variable automatically.\n",
        "\n"
      ]
    },
    {
      "cell_type": "code",
      "execution_count": null,
      "metadata": {
        "id": "IpEiK2QYyDUB"
      },
      "outputs": [],
      "source": [
        "# create a variable of type int (i.e. integer) by assigning the value 5 to it\n",
        "a = 5\n",
        "\n",
        "# print the variable\n",
        "print(a)\n",
        "\n",
        "# print the variable's type\n",
        "print(type(a))"
      ]
    },
    {
      "cell_type": "markdown",
      "source": [
        "You can assign an expression to a variable too. The expression is first evaluated and then assigned to the variable."
      ],
      "metadata": {
        "id": "x-FbO6mMGEKi"
      }
    },
    {
      "cell_type": "code",
      "source": [
        "# create a variable with an expression\n",
        "a_cubed = a ** 3\n",
        "print(a_cubed)"
      ],
      "metadata": {
        "id": "wazPPiNNFnvx"
      },
      "execution_count": null,
      "outputs": []
    },
    {
      "cell_type": "markdown",
      "metadata": {
        "id": "Tp4VxzpuZtpv"
      },
      "source": [
        "Other than basic numeric types, `int`, `float` and `complex`, string (`str`) is another important basic data type.\n",
        "  * Strings are values contained by either single or double quotes.\n",
        "  * Strings are sequence of character(s).\n",
        "  * Each element of string can be *indexed* and *sliced* by its position.\n",
        "  * The position of an element is indicated by an integer value called index.\n",
        "\n",
        "**NOTE**: Python index starts from 0 (not 1)."
      ]
    },
    {
      "cell_type": "code",
      "execution_count": null,
      "metadata": {
        "id": "oIF7irAaYjFr"
      },
      "outputs": [],
      "source": [
        "# create a string\n",
        "b = 'Hello World!'\n",
        "\n",
        "print(b)\n",
        "print(type(b))"
      ]
    },
    {
      "cell_type": "code",
      "execution_count": null,
      "metadata": {
        "id": "6tL9gI9YYnfF"
      },
      "outputs": [],
      "source": [
        "# find the length of a string\n",
        "len(b)"
      ]
    },
    {
      "cell_type": "code",
      "execution_count": null,
      "metadata": {
        "id": "cOCynG-QYvkz"
      },
      "outputs": [],
      "source": [
        "# string index\n",
        "b[0]"
      ]
    },
    {
      "cell_type": "code",
      "execution_count": null,
      "metadata": {
        "id": "R1ynrfCB2hxi"
      },
      "outputs": [],
      "source": [
        "# string slice\n",
        "# :2 means from the 0-indexed character to the 1-indexed character (the 1 comes from 2-1)\n",
        "b[:2]"
      ]
    },
    {
      "cell_type": "markdown",
      "source": [
        "String has many [assoicated methods](https://www.w3schools.com/python/python_ref_string.asp). For example `.lower()` converts a string to lowercase, and `.count()` returns the number of times a specified value occurs in a string."
      ],
      "metadata": {
        "id": "wF9q6o2dXBty"
      }
    },
    {
      "cell_type": "code",
      "source": [
        "# convert a string to lower case\n",
        "b.lower()"
      ],
      "metadata": {
        "id": "75WIYgu1Xjyx"
      },
      "execution_count": null,
      "outputs": []
    },
    {
      "cell_type": "code",
      "source": [
        "# note that .lower() won't change the original string b\n",
        "b"
      ],
      "metadata": {
        "id": "OdO6EbONXuJe"
      },
      "execution_count": null,
      "outputs": []
    },
    {
      "cell_type": "code",
      "source": [
        "# you can reassign b the return value of b.lower() to change b\n",
        "b = b.lower()\n",
        "b"
      ],
      "metadata": {
        "id": "8r44Yc_vX3Rz"
      },
      "execution_count": null,
      "outputs": []
    },
    {
      "cell_type": "code",
      "source": [
        "b.count('l')"
      ],
      "metadata": {
        "id": "za39c8CJXoaW"
      },
      "execution_count": null,
      "outputs": []
    },
    {
      "cell_type": "markdown",
      "source": [
        "### Exercise\n",
        "\n",
        "Convert the string variable `b` to all uppercase, i.e. \"HELLO WORLD!\"."
      ],
      "metadata": {
        "id": "QRRAvHZXiaSX"
      }
    },
    {
      "cell_type": "code",
      "source": [
        "# your code here\n"
      ],
      "metadata": {
        "id": "YYaQlIYHiZsm"
      },
      "execution_count": null,
      "outputs": []
    },
    {
      "cell_type": "markdown",
      "metadata": {
        "id": "dG9wKRJ9aVwG"
      },
      "source": [
        "# 3 More Data Structures Native to Python\n"
      ]
    },
    {
      "cell_type": "markdown",
      "source": [
        "## 3.1 List\n",
        "\n",
        "List is a mutable, ordered sequence of items.\n",
        "\n",
        "* The items are stored inside square brackets separated by comma.\n",
        "* Each item in the list can be indexed."
      ],
      "metadata": {
        "id": "it4wL7BsZYPz"
      }
    },
    {
      "cell_type": "code",
      "execution_count": null,
      "metadata": {
        "id": "M0X0Nu1dyIdi"
      },
      "outputs": [],
      "source": [
        "# create a list of fruits\n",
        "fruits = ['apple', 'orange', 'peach']\n",
        "\n",
        "# print the list\n",
        "print(fruits)\n",
        "\n",
        "# print the type of the fruits objects\n",
        "print(type(fruits))"
      ]
    },
    {
      "cell_type": "code",
      "execution_count": null,
      "metadata": {
        "id": "gxnMHNSRate3"
      },
      "outputs": [],
      "source": [
        "# a list of integer\n",
        "num_list = [4, 8, 10, 15]\n",
        "print(num_list)\n",
        "print(type(num_list))"
      ]
    },
    {
      "cell_type": "code",
      "execution_count": null,
      "metadata": {
        "id": "Za00jtdFb5Dm"
      },
      "outputs": [],
      "source": [
        "# reassign the index 1 element to a new value\n",
        "# Python index starts from 0\n",
        "num_list[1] = 6\n",
        "print(num_list)"
      ]
    },
    {
      "cell_type": "markdown",
      "source": [
        "Just like string, there are [methods](https://www.w3schools.com/python/python_ref_list.asp) assoicated with a list."
      ],
      "metadata": {
        "id": "EhjR8vIIhcyL"
      }
    },
    {
      "cell_type": "code",
      "source": [
        "# note that .append() changes the fruits list in place (differnt from the .lower() method for string)\n",
        "fruits.append('banana')\n",
        "print(fruits)"
      ],
      "metadata": {
        "id": "100g3f5jhqEH"
      },
      "execution_count": null,
      "outputs": []
    },
    {
      "cell_type": "markdown",
      "source": [
        "### Exercise\n",
        "\n",
        "Remove the elment \"peach\" from the fruits list.\n",
        "\n",
        "Hint `.remove()`"
      ],
      "metadata": {
        "id": "A5TcfWt_iI4_"
      }
    },
    {
      "cell_type": "code",
      "source": [
        "# your code here\n"
      ],
      "metadata": {
        "id": "vAiUuXbuiURo"
      },
      "execution_count": null,
      "outputs": []
    },
    {
      "cell_type": "markdown",
      "source": [
        "## 3.2 Dictionary\n",
        "\n",
        "A dictionary is a unordered, mutable collection of key-value pairs.\n",
        "\n",
        "* Values in dictionaries can be indexed using the keys.\n",
        "* Python dictionaries are written with curly brackets with each keys and values separated by a colon.\n",
        "* Each key-value pairs are separated by comma."
      ],
      "metadata": {
        "id": "K_X89tu5ZlGV"
      }
    },
    {
      "cell_type": "code",
      "execution_count": null,
      "metadata": {
        "id": "uPp_RGQab6sQ"
      },
      "outputs": [],
      "source": [
        "# create a dictionary\n",
        "fruits_dict = { 'apple': 5 , 'orange' : 2, 'peach' : 3 }\n",
        "\n",
        "print(fruits_dict)\n",
        "print(type(fruits_dict))"
      ]
    },
    {
      "cell_type": "code",
      "execution_count": null,
      "metadata": {
        "id": "2AeuUv5KuqGJ"
      },
      "outputs": [],
      "source": [
        "# get value of a specified key\n",
        "fruits_dict['apple']"
      ]
    },
    {
      "cell_type": "markdown",
      "source": [
        "Again there are [methods](https://www.w3schools.com/python/python_dictionaries_methods.asp) associated with dictionaries."
      ],
      "metadata": {
        "id": "Mk2SMPtZZCW7"
      }
    },
    {
      "cell_type": "code",
      "execution_count": null,
      "metadata": {
        "id": "4IDX59BSYfrC"
      },
      "outputs": [],
      "source": [
        "# display all keys\n",
        "fruits_dict.keys()"
      ]
    },
    {
      "cell_type": "code",
      "source": [
        "# display all values\n",
        "fruits_dict.values()"
      ],
      "metadata": {
        "id": "xMUFMhKRY--g"
      },
      "execution_count": null,
      "outputs": []
    },
    {
      "cell_type": "code",
      "source": [
        "# get value of a specified key\n",
        "fruits_dict.get('apple')"
      ],
      "metadata": {
        "id": "bl4fgrhzgGQR"
      },
      "execution_count": null,
      "outputs": []
    },
    {
      "cell_type": "markdown",
      "metadata": {
        "id": "NvoL-ZC1uHtW"
      },
      "source": [
        "# 4 Programming Structures\n",
        "\n",
        "Programming structures how code will be executed. All programming structure fall under roughly three categories :\n",
        "Sequential, Conditional and Iterative (loop).\n"
      ]
    },
    {
      "cell_type": "markdown",
      "source": [
        "## 4.1 Sequential\n",
        "\n",
        "Programs runs sequentially, meaning the first line of code runs first followed by the second line, and so on. For example:"
      ],
      "metadata": {
        "id": "GdvikUtplaHd"
      }
    },
    {
      "cell_type": "code",
      "execution_count": null,
      "metadata": {
        "id": "uka751b_b63C"
      },
      "outputs": [],
      "source": [
        "print(fruits_dict['apple'])\n",
        "print(fruits_dict['orange'])\n",
        "print(fruits_dict['peach'])"
      ]
    },
    {
      "cell_type": "markdown",
      "metadata": {
        "id": "-RrC3vtauvhb"
      },
      "source": [
        "## 4.2 Conditional\n",
        "\n",
        "Whether a certain block of code is executed or not depends on whether a condition is satisfied.\n",
        "\n",
        "In Python, conditionals can be created with `if...else` statement and are mostly accompanied by comparison operators, such as `==`, `!=`, `>`, `<`, `>=`, etc."
      ]
    },
    {
      "cell_type": "code",
      "execution_count": null,
      "metadata": {
        "id": "QhUzn-Q2Z7Ml"
      },
      "outputs": [],
      "source": [
        "num_list"
      ]
    },
    {
      "cell_type": "code",
      "execution_count": null,
      "metadata": {
        "id": "nYKpX6DnutWA"
      },
      "outputs": [],
      "source": [
        "if num_list[0] > 5:\n",
        "  print(num_list[0])\n",
        "else:\n",
        "  print('It is not greater than 5')"
      ]
    },
    {
      "cell_type": "markdown",
      "metadata": {
        "id": "SJdz4F6fvh_R"
      },
      "source": [
        "## 4.3 Iterative\n",
        "\n",
        "Programs become powerful when the same block of code can be repeatedly executed for either identical tasks or similar tasks. This can be done through iteration.\n",
        "\n",
        "There are two types of iterations:\n",
        "\n",
        "* Definite iteration, in which the number of repetitions is specified in advance. In Python, this is performed using a `for` statement.\n",
        "\n",
        "* Indefinite iteration, in which the code block executes until some condition is met. In Python, this is performed with a `while` statement.\n"
      ]
    },
    {
      "cell_type": "code",
      "execution_count": null,
      "metadata": {
        "id": "hCXr1RgVvzUw"
      },
      "outputs": [],
      "source": [
        "new_list = []\n",
        "for i in num_list:\n",
        "  if i > 5:\n",
        "    print(i)\n",
        "    new_list.append(i)\n",
        "  else:\n",
        "    print(str(i) +' is not greater than 5.')"
      ]
    },
    {
      "cell_type": "code",
      "execution_count": null,
      "metadata": {
        "id": "VN9zGzygwpkJ"
      },
      "outputs": [],
      "source": [
        "new_list"
      ]
    },
    {
      "cell_type": "code",
      "source": [
        "j = 0\n",
        "while j < 2:\n",
        "  print(num_list[j])\n",
        "  j = j + 1"
      ],
      "metadata": {
        "id": "cbdE5EwwndoU"
      },
      "execution_count": null,
      "outputs": []
    },
    {
      "cell_type": "markdown",
      "metadata": {
        "id": "RA1nZjBAxZ9q"
      },
      "source": [
        "# 5 Functions\n",
        "\n",
        "Codes can quickly get pretty long, complicated and repetitive. Very often we may want to use that code again, on a different dataset or at a different point in our program. Copying and pasting is not a good solution as it makes the code hard to maintain. A good practice is to isolate the repeating operations/logics so that they can be reused in other part of the code. Programming languages provide such ability by letting us define a block of code called a \"function\". A function can be repeatedly used/called in a program.\n"
      ]
    },
    {
      "cell_type": "markdown",
      "source": [
        "## 5.1 Custom functions\n",
        "\n",
        "You can create your own functions."
      ],
      "metadata": {
        "id": "xWR5LKIRo_2p"
      }
    },
    {
      "cell_type": "code",
      "execution_count": null,
      "metadata": {
        "id": "J-lDzjyAyUad"
      },
      "outputs": [],
      "source": [
        "# define a function\n",
        "def more_than_five(a_list):\n",
        "  new_list = []\n",
        "  for i in a_list:\n",
        "    if i > 5:\n",
        "      print(i)\n",
        "      new_list.append(i)\n",
        "    else:\n",
        "      print(str(i) +' is not greater than 5.')\n",
        "  return new_list"
      ]
    },
    {
      "cell_type": "code",
      "execution_count": null,
      "metadata": {
        "id": "NZcY89W3ywxI"
      },
      "outputs": [],
      "source": [
        "# call a function\n",
        "result_num_list = more_than_five(num_list)\n",
        "\n",
        "result_num_list"
      ]
    },
    {
      "cell_type": "code",
      "execution_count": null,
      "metadata": {
        "id": "0pjLkgt8y1tL"
      },
      "outputs": [],
      "source": [
        "# call the function again on another list\n",
        "another_list = [0.5, 1, 6, 12.5, 16, 20]\n",
        "result_another_list = more_than_five(another_list)\n",
        "result_another_list"
      ]
    },
    {
      "cell_type": "markdown",
      "metadata": {
        "id": "SFwJM7KtyUwq"
      },
      "source": [
        "## 5.2 Built-in functions\n",
        "\n",
        "Python has a number of built-in functions. You can find a list of them [here](https://docs.python.org/3/library/functions.html)."
      ]
    },
    {
      "cell_type": "code",
      "execution_count": null,
      "metadata": {
        "id": "KGRmqsyv0AGz"
      },
      "outputs": [],
      "source": [
        "# find the length of a list\n",
        "len(num_list)"
      ]
    },
    {
      "cell_type": "code",
      "execution_count": null,
      "metadata": {
        "id": "LcdQl1m00Kjy"
      },
      "outputs": [],
      "source": [
        "# find the sum of a numeric list\n",
        "sum(num_list)"
      ]
    },
    {
      "cell_type": "code",
      "execution_count": null,
      "metadata": {
        "id": "9tJGDrMe0Ngt"
      },
      "outputs": [],
      "source": [
        "# round a float number\n",
        "round(another_list[0])"
      ]
    },
    {
      "cell_type": "markdown",
      "metadata": {
        "id": "VvFGN9tlyXuD"
      },
      "source": [
        "## 5.3 Methods\n",
        "\n",
        "Methods are functions that are attached to specific class of objects.\n",
        "\n",
        "* Methods are accessed using the dot operator (`.`).\n",
        "* Methods available to an object can be viewed using `dir` function.\n",
        "* Nearly everything in Python is an object. For example, a string variable is an object, a list is an object, and so on."
      ]
    },
    {
      "cell_type": "code",
      "execution_count": null,
      "metadata": {
        "id": "jbxZ_yWxybRm"
      },
      "outputs": [],
      "source": [
        "# append a list by another list\n",
        "# note that nested list is allowed\n",
        "num_list.append([14, 16])\n",
        "print(num_list)"
      ]
    },
    {
      "cell_type": "code",
      "execution_count": null,
      "metadata": {
        "id": "q7E7XQdz1L5i"
      },
      "outputs": [],
      "source": [
        "num_list.remove([14, 16])\n",
        "print(num_list)"
      ]
    },
    {
      "cell_type": "code",
      "execution_count": null,
      "metadata": {
        "id": "OG2BH7-B1JeV"
      },
      "outputs": [],
      "source": [
        "dir(num_list)"
      ]
    },
    {
      "cell_type": "markdown",
      "metadata": {
        "id": "aBou1ziuyb2I"
      },
      "source": [
        "## 5.4 Functions in third party modules (packages or libraries)\n",
        "\n",
        "Python as an open source programming language has an active community of contributors that also make their software available for other users to use.\n",
        "\n",
        "Some of the popular data science packages are\n",
        "\n",
        "* [numpy](https://numpy.org/), a library for vector and matrix/array operations.\n",
        "* [pandas](https://pandas.pydata.org/), a library for data processing. It mainly operates on 2D tables with columns and rows called dataframes.\n",
        "* [matplotlib](https://matplotlib.org/), a library for plotting charts.\n",
        "* [scikit-learn](https://scikit-learn.org/stable/index.html), a library for machine learning.\n",
        "\n",
        "Once you import a module, you can then call the functions/methods it provides.\n"
      ]
    },
    {
      "cell_type": "code",
      "source": [
        "# import the numpy module\n",
        "import numpy as np\n",
        "\n",
        "# create a 2x3 array\n",
        "# array() is a function provided by numpy package\n",
        "ar = np.array([[1, 2, 3],\n",
        "              [4, 5, 6]])\n",
        "\n",
        "# print the array\n",
        "print(ar)\n",
        "\n",
        "# find the largest element in the array\n",
        "# max() is a method associated with the array object\n",
        "print(ar.max())\n",
        "\n",
        "# find the array's shape\n",
        "# shape is an attribute of the array object; it's not a method\n",
        "print(ar.shape)"
      ],
      "metadata": {
        "id": "f8_0O918wFc2"
      },
      "execution_count": null,
      "outputs": []
    },
    {
      "cell_type": "markdown",
      "source": [
        "## Exercise\n",
        "\n",
        "You're a detective investigating a mysterious disappearance. The only clue you have is a cryptic message containing a list of numbers. You believe that the largest even number in the list is a crucial piece of information. By analyzing this number, you might be able to uncover the missing person's whereabouts.\n",
        "\n",
        "Create a Python function `find_largest_even()` that takes a list of integer numbers as input. The function should identify and print the largest even number in the list. If there are no even numbers in the list, print \"No even numbers found.\""
      ],
      "metadata": {
        "id": "JXAg4qk0YjFX"
      }
    },
    {
      "cell_type": "code",
      "source": [
        "def find_largest_even(numbers):\n",
        "  \"\"\"Finds the largest even number in a list.\n",
        "\n",
        "  Args:\n",
        "    numbers: A list of numbers.\n",
        "\n",
        "  Returns:\n",
        "    The largest even number in the list, or \"No even numbers found\" if there are none.\n",
        "  \"\"\"\n",
        "\n",
        "  # Your code here (pass below is a placehoder for your code)\n",
        "  pass\n",
        "\n",
        "numbers = [1, 3, 5, 7, 2, 4, 8, 6]\n",
        "result = find_largest_even(numbers)\n",
        "print(result)  # Output: 8\n",
        "\n",
        "numbers2 = [1, 3, 5, 7]\n",
        "result2 = find_largest_even(numbers)\n",
        "print(result2)  # Output: No even numbers found"
      ],
      "metadata": {
        "id": "ZvrQNpMWYtK9"
      },
      "execution_count": null,
      "outputs": []
    },
    {
      "cell_type": "markdown",
      "source": [
        "### Solution\n"
      ],
      "metadata": {
        "id": "yOqpJIhCZw6I"
      }
    },
    {
      "cell_type": "code",
      "source": [
        "# Note: this exercise including its solution is created with the help of Google Gemini\n",
        "\n",
        "def find_largest_even(numbers):\n",
        "  \"\"\"Finds the largest even number in a list.\n",
        "\n",
        "  Args:\n",
        "    numbers: A list of numbers.\n",
        "\n",
        "  Returns:\n",
        "    The largest even number in the list, or \"No even numbers found\" if there are none.\n",
        "  \"\"\"\n",
        "\n",
        "  largest_even = None\n",
        "  for num in numbers:\n",
        "    if num % 2 == 0 and (largest_even is None or num > largest_even):\n",
        "      largest_even = num\n",
        "\n",
        "  if largest_even is not None:\n",
        "    return largest_even\n",
        "  else:\n",
        "    return \"No even numbers found\"\n",
        "\n",
        "numbers = [1, 3, 5, 7, 2, 4, 8, 6]\n",
        "result = find_largest_even(numbers)\n",
        "print(result)  # Output: 8\n",
        "\n",
        "numbers2 = [1, 3, 5, 7]\n",
        "result2 = find_largest_even(numbers2)\n",
        "print(result2)  # Output: No even numbers found"
      ],
      "metadata": {
        "id": "mZ5c1YZJZdp2"
      },
      "execution_count": null,
      "outputs": []
    },
    {
      "cell_type": "code",
      "source": [],
      "metadata": {
        "id": "ZXvfaAwvd6Ag"
      },
      "execution_count": null,
      "outputs": []
    }
  ],
  "metadata": {
    "colab": {
      "provenance": [],
      "collapsed_sections": [
        "yOqpJIhCZw6I"
      ]
    },
    "kernelspec": {
      "display_name": "Python 3",
      "language": "python",
      "name": "python3"
    },
    "language_info": {
      "codemirror_mode": {
        "name": "ipython",
        "version": 3
      },
      "file_extension": ".py",
      "mimetype": "text/x-python",
      "name": "python",
      "nbconvert_exporter": "python",
      "pygments_lexer": "ipython3",
      "version": "3.7.3"
    }
  },
  "nbformat": 4,
  "nbformat_minor": 0
}